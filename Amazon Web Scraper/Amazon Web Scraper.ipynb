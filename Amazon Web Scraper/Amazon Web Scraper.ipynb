{
 "cells": [
  {
   "cell_type": "markdown",
   "id": "b89cd6a9",
   "metadata": {},
   "source": [
    "<h1>Amazon Web Scraper</h1>\n",
    "<t>by: Avinash Bisram</t>"
   ]
  },
  {
   "cell_type": "code",
   "execution_count": 1,
   "id": "280c6881",
   "metadata": {},
   "outputs": [],
   "source": [
    "# Import libraries\n",
    "\n",
    "from bs4 import BeautifulSoup\n",
    "import requests\n",
    "import time\n",
    "import datetime\n",
    "import csv"
   ]
  },
  {
   "cell_type": "code",
   "execution_count": 2,
   "id": "2bf8d879",
   "metadata": {},
   "outputs": [],
   "source": [
    "# Connect to website\n",
    "\n",
    "URL = 'https://www.amazon.com/funny-analyst-definition-scientist-t-shirt/dp/B07NLP2PKY/ref=sr_1_4?dchild=1&keywords=data%2Banalyst&qid=1630194523&sr=8-4&customId=B07535Y9T6&th=1&psc=1'\n",
    "\n",
    "headers = {\"User-Agent\": \"Mozilla/5.0 (Windows NT 10.0; Win64; x64) AppleWebKit/537.36 (KHTML, like Gecko) Chrome/92.0.4515.159 Safari/537.36\", \"X-Amzn-Trace-Id\": \"Root=1-612acb7f-127e0b7a2a6e957f0665731f\"}\n",
    "\n",
    "page = requests.get(URL, headers=headers)"
   ]
  },
  {
   "cell_type": "code",
   "execution_count": 3,
   "id": "49839fb6",
   "metadata": {},
   "outputs": [],
   "source": [
    "# Prepare the HTML for parsing\n",
    "\n",
    "soup1 = BeautifulSoup(page.content, 'html.parser')"
   ]
  },
  {
   "cell_type": "code",
   "execution_count": 4,
   "id": "631a8c7e",
   "metadata": {},
   "outputs": [
    {
     "data": {
      "text/plain": [
       "'funny data analyst definition data scientist T-Shirt'"
      ]
     },
     "execution_count": 4,
     "metadata": {},
     "output_type": "execute_result"
    }
   ],
   "source": [
    "# Grabbing the product title\n",
    "\n",
    "title = soup1.find(id='productTitle').get_text().strip()\n",
    "title"
   ]
  },
  {
   "cell_type": "code",
   "execution_count": 5,
   "id": "0d02d837",
   "metadata": {},
   "outputs": [
    {
     "data": {
      "text/plain": [
       "'Funny Data Analyst And Data Scientist Shirts'"
      ]
     },
     "execution_count": 5,
     "metadata": {},
     "output_type": "execute_result"
    }
   ],
   "source": [
    "# Grabbing the product brand\n",
    "\n",
    "brand = soup1.find(id='bylineInfo').get_text().strip()[7:]\n",
    "brand"
   ]
  },
  {
   "cell_type": "code",
   "execution_count": 6,
   "id": "ad1abd17",
   "metadata": {},
   "outputs": [
    {
     "name": "stdout",
     "output_type": "stream",
     "text": [
      "0) Solid colors: 100% Cotton; Heather Grey: 90% Cotton, 10% Polyester; All Other Heathers: 50% Cotton, 50% Polyester\n",
      "1) Imported\n",
      "2) Machine Wash\n",
      "3) If you are a data analyst, data scientist or even a \"data ninja\" or a \"data whisper\", this funny t-shirt is exactly what you are looking for!A perfect tee to wear while analyzing databases and building graphs and stats - from data lovers for data lover\n",
      "4) funny data analyst definition data scientist t-shirt is a great gift for family members, friends and coworkers.\n",
      "5) Lightweight, Classic fit, Double-needle sleeve and bottom hem\n"
     ]
    }
   ],
   "source": [
    "# Grabbing the product description (bullet points)\n",
    "\n",
    "description = soup1.find(id='feature-bullets')\n",
    "for i,list_element in enumerate(description.find_all('li')):\n",
    "    print(str(i)+\") \"+list_element.get_text().strip())"
   ]
  },
  {
   "cell_type": "code",
   "execution_count": 7,
   "id": "8f0d329d",
   "metadata": {},
   "outputs": [
    {
     "data": {
      "text/plain": [
       "'19.99'"
      ]
     },
     "execution_count": 7,
     "metadata": {},
     "output_type": "execute_result"
    }
   ],
   "source": [
    "# Grabbing the product price\n",
    "\n",
    "price = soup1.find(id='priceblock_ourprice').get_text().strip()[1:]\n",
    "price"
   ]
  },
  {
   "cell_type": "code",
   "execution_count": 8,
   "id": "d80f7a97",
   "metadata": {},
   "outputs": [],
   "source": [
    "# Creating a CSV to add data to (Only run this once then use appending in future)\n",
    "\n",
    "header = ['Title', 'Price', 'Date']\n",
    "\n",
    "with open('AmazonWebScrapeData.csv', 'w', newline='', encoding='UTF8') as f:\n",
    "    writer = csv.writer(f)\n",
    "    writer.writerow(header)"
   ]
  },
  {
   "cell_type": "code",
   "execution_count": 9,
   "id": "b9d50a85",
   "metadata": {},
   "outputs": [],
   "source": [
    "# Function for appending some data to the CSV\n",
    "\n",
    "def check_price():\n",
    "    URL = 'https://www.amazon.com/funny-analyst-definition-scientist-t-shirt/dp/B07NLP2PKY/ref=sr_1_4?dchild=1&keywords=data+analyst&qid=1630194523&sr=8-4'\n",
    "\n",
    "    headers = {\"User-Agent\": \"Mozilla/5.0 (Windows NT 10.0; Win64; x64) AppleWebKit/537.36 (KHTML, like Gecko) Chrome/92.0.4515.159 Safari/537.36\", \n",
    "        \"X-Amzn-Trace-Id\": \"Root=1-612acb7f-127e0b7a2a6e957f0665731f\"}\n",
    "\n",
    "    page = requests.get(URL, headers=headers)\n",
    "    \n",
    "    soup1 = BeautifulSoup(page.content, 'html.parser')\n",
    "\n",
    "    title = soup1.find(id='productTitle').get_text().strip()\n",
    "    price = soup1.find(id='priceblock_ourprice').get_text().strip()[1:]\n",
    "    today = datetime.date.today()\n",
    "\n",
    "    data = [title, price, today]\n",
    "\n",
    "    with open('AmazonWebScrapeData.csv', 'a+', newline='', encoding='UTF8') as f:\n",
    "        writer = csv.writer(f)\n",
    "        writer.writerow(data)"
   ]
  },
  {
   "cell_type": "code",
   "execution_count": null,
   "id": "f3801b98",
   "metadata": {},
   "outputs": [],
   "source": [
    "# Gathering the data every 24 hours and appending it to our CSV\n",
    "\n",
    "while(True):\n",
    "    try:\n",
    "        check_price()\n",
    "    except AttributeError: # this error would be thrown periodically and I am not entirely sure why (page html would load fine)\n",
    "        print(\"AttributeError: 'NoneType' object has no attribute 'get_text'\") \n",
    "    finally:\n",
    "        time.sleep(86400) # initially set to 10 seconds to populate the CSV file faster"
   ]
  },
  {
   "cell_type": "code",
   "execution_count": 12,
   "id": "41deeeda",
   "metadata": {},
   "outputs": [
    {
     "data": {
      "text/html": [
       "<div>\n",
       "<style scoped>\n",
       "    .dataframe tbody tr th:only-of-type {\n",
       "        vertical-align: middle;\n",
       "    }\n",
       "\n",
       "    .dataframe tbody tr th {\n",
       "        vertical-align: top;\n",
       "    }\n",
       "\n",
       "    .dataframe thead th {\n",
       "        text-align: right;\n",
       "    }\n",
       "</style>\n",
       "<table border=\"1\" class=\"dataframe\">\n",
       "  <thead>\n",
       "    <tr style=\"text-align: right;\">\n",
       "      <th></th>\n",
       "      <th>Title</th>\n",
       "      <th>Price</th>\n",
       "      <th>Date</th>\n",
       "    </tr>\n",
       "  </thead>\n",
       "  <tbody>\n",
       "    <tr>\n",
       "      <th>0</th>\n",
       "      <td>funny data analyst definition data scientist T-Shirt</td>\n",
       "      <td>19.99</td>\n",
       "      <td>2021-11-01</td>\n",
       "    </tr>\n",
       "    <tr>\n",
       "      <th>1</th>\n",
       "      <td>funny data analyst definition data scientist T-Shirt</td>\n",
       "      <td>19.99</td>\n",
       "      <td>2021-11-01</td>\n",
       "    </tr>\n",
       "    <tr>\n",
       "      <th>2</th>\n",
       "      <td>funny data analyst definition data scientist T-Shirt</td>\n",
       "      <td>19.99</td>\n",
       "      <td>2021-11-01</td>\n",
       "    </tr>\n",
       "  </tbody>\n",
       "</table>\n",
       "</div>"
      ],
      "text/plain": [
       "                                                  Title  Price        Date\n",
       "0  funny data analyst definition data scientist T-Shirt  19.99  2021-11-01\n",
       "1  funny data analyst definition data scientist T-Shirt  19.99  2021-11-01\n",
       "2  funny data analyst definition data scientist T-Shirt  19.99  2021-11-01"
      ]
     },
     "execution_count": 12,
     "metadata": {},
     "output_type": "execute_result"
    }
   ],
   "source": [
    "# Using pandas to quickly check our data without opening the CSV\n",
    "\n",
    "import pandas as pd\n",
    "df = pd.read_csv(r'AmazonWebScrapeData.csv')\n",
    "pd.set_option('display.max_colwidth', None)\n",
    "df"
   ]
  }
 ],
 "metadata": {
  "kernelspec": {
   "display_name": "Python 3",
   "language": "python",
   "name": "python3"
  },
  "language_info": {
   "codemirror_mode": {
    "name": "ipython",
    "version": 3
   },
   "file_extension": ".py",
   "mimetype": "text/x-python",
   "name": "python",
   "nbconvert_exporter": "python",
   "pygments_lexer": "ipython3",
   "version": "3.8.8"
  }
 },
 "nbformat": 4,
 "nbformat_minor": 5
}
