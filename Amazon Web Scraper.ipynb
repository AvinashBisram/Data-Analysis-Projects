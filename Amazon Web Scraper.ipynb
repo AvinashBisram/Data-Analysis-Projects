{
 "cells": [
  {
   "cell_type": "markdown",
   "id": "b89cd6a9",
   "metadata": {},
   "source": [
    "<h1>Amazon Web Scraper</h1>\n",
    "<t>by: Avinash Bisram</t>"
   ]
  },
  {
   "cell_type": "code",
   "execution_count": 1,
   "id": "280c6881",
   "metadata": {},
   "outputs": [],
   "source": [
    "# Import libraries\n",
    "\n",
    "from bs4 import BeautifulSoup\n",
    "import requests\n",
    "import time\n",
    "import datetime\n",
    "import csv"
   ]
  },
  {
   "cell_type": "code",
   "execution_count": 2,
   "id": "2bf8d879",
   "metadata": {},
   "outputs": [],
   "source": [
    "# Connect to website\n",
    "\n",
    "URL = 'https://www.amazon.com/funny-analyst-definition-scientist-t-shirt/dp/B07NLP2PKY/ref=sr_1_4?dchild=1&keywords=data+analyst&qid=1630194523&sr=8-4'\n",
    "\n",
    "headers = {\"User-Agent\": \"Mozilla/5.0 (Windows NT 10.0; Win64; x64) AppleWebKit/537.36 (KHTML, like Gecko) Chrome/92.0.4515.159 Safari/537.36\", \n",
    "    \"X-Amzn-Trace-Id\": \"Root=1-612acb7f-127e0b7a2a6e957f0665731f\"}\n",
    "\n",
    "page = requests.get(URL, headers=headers)"
   ]
  },
  {
   "cell_type": "code",
   "execution_count": 3,
   "id": "49839fb6",
   "metadata": {},
   "outputs": [],
   "source": [
    "soup1 = BeautifulSoup(page.content, 'html.parser')\n",
    "\n",
    "soup2 = BeautifulSoup(soup1.prettify(), 'html.parser')"
   ]
  },
  {
   "cell_type": "code",
   "execution_count": 4,
   "id": "631a8c7e",
   "metadata": {},
   "outputs": [
    {
     "data": {
      "text/plain": [
       "'funny data analyst definition data scientist T-Shirt'"
      ]
     },
     "execution_count": 4,
     "metadata": {},
     "output_type": "execute_result"
    }
   ],
   "source": [
    "# Grabbing the product title\n",
    "\n",
    "title = soup2.find(id='productTitle').get_text().strip()\n",
    "title"
   ]
  },
  {
   "cell_type": "code",
   "execution_count": 5,
   "id": "8f0d329d",
   "metadata": {},
   "outputs": [
    {
     "data": {
      "text/plain": [
       "'19.99'"
      ]
     },
     "execution_count": 5,
     "metadata": {},
     "output_type": "execute_result"
    }
   ],
   "source": [
    "# Grabbing the product price\n",
    "\n",
    "price = soup2.find(id='priceblock_ourprice').get_text().strip()\n",
    "price = price[1:]\n",
    "price"
   ]
  },
  {
   "cell_type": "code",
   "execution_count": 6,
   "id": "d80f7a97",
   "metadata": {},
   "outputs": [],
   "source": [
    "# Creating a CSV to add data to (Only run this once then use appending in future)\n",
    "\n",
    "today = datetime.date.today()\n",
    "\n",
    "header = ['Title', 'Price', 'Date']\n",
    "data = [title, price, today]\n",
    "\n",
    "with open('AmazonWebScrapeData.csv', 'w', newline='', encoding='UTF8') as f:\n",
    "    writer = csv.writer(f)\n",
    "    writer.writerow(header)"
   ]
  },
  {
   "cell_type": "code",
   "execution_count": 7,
   "id": "b9d50a85",
   "metadata": {},
   "outputs": [],
   "source": [
    "# Appending data to the CSV\n",
    "\n",
    "def check_price():\n",
    "    URL = 'https://www.amazon.com/funny-analyst-definition-scientist-t-shirt/dp/B07NLP2PKY/ref=sr_1_4?dchild=1&keywords=data+analyst&qid=1630194523&sr=8-4'\n",
    "\n",
    "    headers = {\"User-Agent\": \"Mozilla/5.0 (Windows NT 10.0; Win64; x64) AppleWebKit/537.36 (KHTML, like Gecko) Chrome/92.0.4515.159 Safari/537.36\", \n",
    "        \"X-Amzn-Trace-Id\": \"Root=1-612acb7f-127e0b7a2a6e957f0665731f\"}\n",
    "\n",
    "    page = requests.get(URL, headers=headers)\n",
    "    \n",
    "    soup1 = BeautifulSoup(page.content, 'html.parser')\n",
    "\n",
    "    soup2 = BeautifulSoup(soup1.prettify(), 'html.parser')\n",
    "\n",
    "    title = soup2.find(id='productTitle').get_text().strip()\n",
    "\n",
    "    price = soup2.find(id='priceblock_ourprice').get_text().strip()\n",
    "    price = price[1:]\n",
    "\n",
    "    today = datetime.date.today()\n",
    "\n",
    "    data = [title, price, today]\n",
    "\n",
    "    with open('AmazonWebScrapeData.csv', 'a+', newline='', encoding='UTF8') as f:\n",
    "        writer = csv.writer(f)\n",
    "        writer.writerow(data)"
   ]
  },
  {
   "cell_type": "code",
   "execution_count": 9,
   "id": "f3801b98",
   "metadata": {},
   "outputs": [],
   "source": [
    "# Gathering the data every 24 hours and appending it to our CSV\n",
    "\n",
    "while(True):\n",
    "    check_price()\n",
    "    time.sleep(86400)"
   ]
  },
  {
   "cell_type": "code",
   "execution_count": 10,
   "id": "41deeeda",
   "metadata": {},
   "outputs": [
    {
     "name": "stdout",
     "output_type": "stream",
     "text": [
      "                                               Title  Price        Date\n",
      "0  funny data analyst definition data scientist T...  19.99  2021-08-28\n",
      "1  funny data analyst definition data scientist T...  19.99  2021-08-28\n"
     ]
    }
   ],
   "source": [
    "# Using pandas to quickly check our data without opening the CSV\n",
    "\n",
    "import pandas as pd\n",
    "df = pd.read_csv(r'C:\\Users\\avist\\Programming Projects\\AmazonWebScrapeData.csv')\n",
    "print(df) #time.sleep was originally set at 10 seconds for testing purposes."
   ]
  }
 ],
 "metadata": {
  "kernelspec": {
   "display_name": "Python 3",
   "language": "python",
   "name": "python3"
  },
  "language_info": {
   "codemirror_mode": {
    "name": "ipython",
    "version": 3
   },
   "file_extension": ".py",
   "mimetype": "text/x-python",
   "name": "python",
   "nbconvert_exporter": "python",
   "pygments_lexer": "ipython3",
   "version": "3.8.8"
  }
 },
 "nbformat": 4,
 "nbformat_minor": 5
}
